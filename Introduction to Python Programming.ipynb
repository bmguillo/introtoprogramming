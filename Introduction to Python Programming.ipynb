{
 "cells": [
  {
   "cell_type": "markdown",
   "metadata": {},
   "source": [
    "![alt text](https://www.python.org/static/community_logos/python-logo-master-v3-TM.png \"Title\")\n",
    "\n",
    "<h1 align=center><font size = 5>Interactive Introduction to Python Programming Notebook</font></h1>\n",
    "\n",
    "## Introduction To Python\n",
    "\n",
    "Some of the concepts we will cover in this notebook are basic computer science fundamentals & data structures implemented using Python. These skills being taught at the University Level & found in \"Cracking the Code\" interview books(skills tech companies are looking for). I will also provide some basic hints/tips to help you on your journey. This notebook is desi gned for beginners new to computer science & programming in general. \n",
    "\n",
    "\n",
    "## Table of Contents\n",
    "\n",
    "1. [Pre-requisites(tools) & Tips](#0)<br>\n",
    "2. [Repetitive Data Structures(For & While Loops)](#1)<br>\n",
    "3. [Decision structure(if elif else)](#2) <br>\n",
    "3. [Recursion(Fibonacci, Factorial, String Permutation) & Stack/Tree Structures](#3) <br>\n",
    "4. [Creating Abstract Classes & Inheritance](#4) <br>\n",
    "5. [Hashed Tables & Linked Lists](#4) <br>\n",
    "6. [Big(O)for Algorithm Complexity](#5) <br>\n",
    "\n",
    "\n",
    "## Pre-requisites(tools) & Tips<a id=\"0\"></a>\n",
    "\n",
    "Those of you who are just starting out with the Python language there are few prereqs/tools/tips you may want to consider or be aware of. I am using PiP and there is also Anaconda distribution https://jupyter-notebook-beginner-guide.readthedocs.io/en/latest/install.html?highlight=anaconda and https://www.anaconda.com/(more information)& I recommend a good text editor so that you can create modify and execute your code, I use Sublime(https://www.sublimetext.com/) and I also like Atom(https://atom.io/). I also found a nifty tool that allows you to visualize your code and step through it for troubleshooting(http://pythontutor.com). If you have any trouble with executing code (click cell, Shift+Enter) in the cells, try restarting the kernel that seems to work. If you wish to clear the output this may help as well.\n",
    "\n",
    "A few tips I recommend is to be aware of \"indentation\". This is how Python structures, groups and executes its code, it is similar to the old {} in other languages. If you do not indent properly you will get either a) indentation errors b) invalid syntax errors or c) your code will not execute properly as you intended. Also when you are first beginning to write Python code or code in general, if it is a repetitive structure you should attempt to write one iteration of how the code should work semantically and behaviorally, once it behaves as intended place within a repetitive structure. Use print statements to validate your variables & explain code behavior, which I have done below. Also use comments to guide those who are not familiar with your code\n"
   ]
  },
  {
   "cell_type": "markdown",
   "metadata": {},
   "source": [
    "## Nested While Loop Illustration for Prime Numbers & Code sample<a id=\"1\"></a>\n",
    "\n",
    "In this illustration we will go over two concepts: nested while loops and prime numbers. \n",
    "Here are a few tips: \n",
    "a) A prime number is a whole number > 1 that can be divided evenly (modulus/remainder = 0) by itself and 1 \n",
    "b) 2 is the smallest prime number and the only even prime number, it is divisible by itself and 1\n",
    "\n",
    "Here is the process:\n",
    "#### Step 1 & 2: Initialize variable i,p & Outer While loop iterates\n",
    "\n",
    "The first step is i gets initialized to 2 (i=2) because prime numbers start at 2. The variable p is also evaluated as the total number to check in order to stop the outer loop from iterating indefinitely (p=12).\n",
    "\n",
    "The second step is the outer while loop condition is evaluated (while i < p), as p=12 it will run for values p=2 to p=11, 10 times. To prevent an indefinite iteration you must do two things:\n",
    "a) the while condition ( i < p) have to initialize to false initially by setting a p value to end it\n",
    "b) Incrementally increase i value to reach condition(not < p) e.g. 12 < 12 is false, this stops the outer loop\n",
    "            \n",
    "#### Step 3 & 4: Initialize variable j, Evaluate nested while loop and if stmt condition &  increment value i and outer while loop iterates again since condition is true\n",
    "\n",
    "The third step is 2 is also the lowest prime number in order to check for other divisors other than (1,itself) so it is initialized to j, j=2.I run my print statement to indicate when I am in the outer loop and i, j variables e.g. \"---Outer while\". The nested inner while loop condition is evaluated j <= i/j which is false, 2 <= i/j or 2 <= 2/2 or 2 <= 1.0 so it skips the loop code and jumps to next line (if statement)It evaluates the if statement (j > i/j) which i also run a print statement to indicate the values, this statement evaluates to true 2 > 2/2 or 2 > 1 so it indicates 2 a prime number has been found.\n",
    "\n",
    "The fourth step is toincrementally increase the i value in order for the while loop to evaluate to false and stop, so i=3 now while ( 3 < 12) true\n",
    "\n",
    "#### Step 5 & 6: Initializes j back to 2, the nested while loop condition evaluates to false so jumps to if statement for evaluation, which is true & Outer loop interates, Nested while loop condition is evaluated to true so print statement executes \n",
    "\n",
    "The fifth step is j=2 & j > i/j is 2 > 3/2 or 2 > 1.5 so i gets incremented and prints the statements indicating 3 a prime number is found, i=4 now. \n",
    "\n",
    "The sixth step is 4<12 for outer loop and j <=  i/j or 2 <= 4/2 or 2 <= 2 is true for nested while loop. Prints statement \"*** Inner while\" to know where you are within the code and since if not (i%j) evaluates to true 4/2 has a modulus of 0 or remainder of 0 indicating this is not a prime number and breaks out of the nested loop \n",
    "\n",
    "#### Step 7 & &: Incrementing j variable, evaluation of the nested while loop condition again, which is false then jumps to next line of code: if statement to evaluate if prime number is found then increments i & Lather, Rinse,Repeat\n",
    "\n",
    "The seventh step after it breaks out of the loop it jumps to the next statement incrementing j then to the if statement j is now 3 , j=3 the nested while loop evaluation j <= i/j, 3 <= 2/3 or 3 <= 1.6666 which evaluates to false, if statement evaluation j > i/j or 3 > 2/3 or 3 > 1.666 which evaluates to true so it will print \"5 is a prime number\"increments i to 5, i=5"
   ]
  },
  {
   "cell_type": "code",
   "execution_count": 1,
   "metadata": {},
   "outputs": [
    {
     "name": "stdout",
     "output_type": "stream",
     "text": [
      "---Outer while loop iterates, sets j=2 since i is 2 and j is 2 and 2 is less than 12\n",
      "j value is 2 which is now > 1.0, (to prevent infinite inner loop iteration it increments j in inner loop then jumps to next line: Outer if: Since 2 is > 2 / 2 then 2 is prime\n",
      "i increments to 3\n",
      "---Outer while loop iterates, sets j=2 since i is 3 and j is 2 and 3 is less than 12\n",
      "j value is 2 which is now > 1.5, (to prevent infinite inner loop iteration it increments j in inner loop then jumps to next line: Outer if: Since 2 is > 3 / 2 then 3 is prime\n",
      "i increments to 4\n",
      "---Outer while loop iterates, sets j=2 since i is 4 and j is 2 and 4 is less than 12\n",
      "**Inner while iterates since i is 4 and j is 2 and is j <= 2.0 ?\n",
      "i increments to 5\n",
      "---Outer while loop iterates, sets j=2 since i is 5 and j is 2 and 5 is less than 12\n",
      "**Inner while iterates since i is 5 and j is 2 and is j <= 2.5 ?\n",
      "j value is 3 which is now > 1.6666666666666667, (to prevent infinite inner loop iteration it increments j in inner loop then jumps to next line: Outer if: Since 3 is > 5 / 3 then 5 is prime\n",
      "i increments to 6\n",
      "---Outer while loop iterates, sets j=2 since i is 6 and j is 2 and 6 is less than 12\n",
      "**Inner while iterates since i is 6 and j is 2 and is j <= 3.0 ?\n",
      "i increments to 7\n",
      "---Outer while loop iterates, sets j=2 since i is 7 and j is 2 and 7 is less than 12\n",
      "**Inner while iterates since i is 7 and j is 2 and is j <= 3.5 ?\n",
      "j value is 3 which is now > 2.3333333333333335, (to prevent infinite inner loop iteration it increments j in inner loop then jumps to next line: Outer if: Since 3 is > 7 / 3 then 7 is prime\n",
      "i increments to 8\n",
      "---Outer while loop iterates, sets j=2 since i is 8 and j is 2 and 8 is less than 12\n",
      "**Inner while iterates since i is 8 and j is 2 and is j <= 4.0 ?\n",
      "i increments to 9\n",
      "---Outer while loop iterates, sets j=2 since i is 9 and j is 2 and 9 is less than 12\n",
      "**Inner while iterates since i is 9 and j is 2 and is j <= 4.5 ?\n",
      "**Inner while iterates since i is 9 and j is 3 and is j <= 3.0 ?\n",
      "i increments to 10\n",
      "---Outer while loop iterates, sets j=2 since i is 10 and j is 2 and 10 is less than 12\n",
      "**Inner while iterates since i is 10 and j is 2 and is j <= 5.0 ?\n",
      "i increments to 11\n",
      "---Outer while loop iterates, sets j=2 since i is 11 and j is 2 and 11 is less than 12\n",
      "**Inner while iterates since i is 11 and j is 2 and is j <= 5.5 ?\n",
      "**Inner while iterates since i is 11 and j is 3 and is j <= 3.6666666666666665 ?\n",
      "j value is 4 which is now > 2.75, (to prevent infinite inner loop iteration it increments j in inner loop then jumps to next line: Outer if: Since 4 is > 11 / 4 then 11 is prime\n",
      "i increments to 12\n",
      "Goodbye!\n"
     ]
    }
   ],
   "source": [
    "i = 2\n",
    "p = 12\n",
    "\n",
    "while (i < p):\n",
    "\n",
    "\tj = 2\n",
    "\n",
    "\tprint(\"---Outer while loop iterates, sets j=2 since i is \"+str(i)+\" and j is \"+str(j)+\" and \"+str(i)+\" is less than \"+str(p))\n",
    "\n",
    "\twhile (j <= (i/j)): \n",
    "\n",
    "\t\tprint(\"**Inner while iterates since i is \"+str(i)+\" and j is \"+str(j)+\" and is j <= \"+str(i/j)+\" ?\")\n",
    "\n",
    "\t\tif not(i%j):  break\n",
    "\n",
    "\t\tj = j + 1\n",
    "\n",
    "\tif (j > i/j): print(\"j value is \"+str(j)+\" which is now > \"+str(i/j)+\", (to prevent infinite inner loop iteration it increments j in inner loop then jumps to next line: Outer if: Since \"+str(j)+\" is > \"+str(i)+\" / \"+str(j)+\" then \"+str(i)+\" is prime\")\n",
    "\n",
    "\ti = i + 1 \n",
    "    \n",
    "\tprint(\"i increments to \"+str(i))\n",
    "\n",
    "print (\"Goodbye!\")"
   ]
  },
  {
   "cell_type": "markdown",
   "metadata": {},
   "source": [
    "## Decision Structure Prime Numbers & Code sample<a id=\"2\"></a>\n",
    "\n",
    "Decision making is setting specific actions to take based on conditions during execution of the code \n",
    "\n",
    "There are three types of decisions a) Simple decision which is one if statement with no else branch b) Two-way decision which is one if statement with an else branch and c) Multi-way decision which can be Nested if statements & “elif” can be used instead of “else:” followed by “if”\n",
    "\n"
   ]
  },
  {
   "cell_type": "markdown",
   "metadata": {},
   "source": [
    "![decision.png](img/decision.png)"
   ]
  },
  {
   "cell_type": "markdown",
   "metadata": {},
   "source": [
    "Prime Number For Loop If Else Keyboard Input Example:"
   ]
  },
  {
   "cell_type": "code",
   "execution_count": null,
   "metadata": {},
   "outputs": [],
   "source": [
    "while True:\n",
    "    p = int(input('Enter a number '))\n",
    "    for d in range(2, p):\n",
    "        if p % d == 0:\n",
    "            print(p, \"is not a prime number!\", d,\"*\", p//d,\"=\",p)\n",
    "            break\n",
    "    else:\n",
    "        print(p, \"is a prime number!\")"
   ]
  },
  {
   "cell_type": "markdown",
   "metadata": {},
   "source": [
    "Here is a function that reads keyboard input and determines if integer is a multiple and prints out multiples"
   ]
  },
  {
   "cell_type": "code",
   "execution_count": null,
   "metadata": {},
   "outputs": [],
   "source": [
    "def multiples():\n",
    "    \n",
    "    i=0\n",
    "    m=3\n",
    "    n = int(input(\"Enter a number to determine the multiples of 3\"))\n",
    "    if (n < 3 or n %3 != 0):\n",
    "        print(\"Your number is less than 3 or not a multiple of 3 TRY AGAIN\")\n",
    "\n",
    "    else:\n",
    "        print(\"You have entered \" + str(n))\n",
    "    \n",
    "    while ( (m*i) < n):\n",
    "        print(m*i)\n",
    "        i = i + 1\n",
    "    \n",
    "print(multiples())"
   ]
  },
  {
   "cell_type": "markdown",
   "metadata": {},
   "source": [
    "Here is code that reads keyboard input for two census years it checks to see if the values are in the lists using the \"else\" decision and prints \"value not found message\" if not found. If the value is found it will calculate the average difference between the two years."
   ]
  },
  {
   "cell_type": "code",
   "execution_count": null,
   "metadata": {},
   "outputs": [],
   "source": [
    "census = [ 340, 589, 959, 1372, 1918, 2428, 3097, 3880, 4382, \n",
    "5082, 5997, 7268, 9113, 10385, 12588, 13479, 14830, 16782, 8236, \n",
    "17558, 17990, 18976, 19378 ]\n",
    "\n",
    "years = [ 1790, 1800, 1810, 1820, 1830, 1840, 1850,\n",
    " 1860, 1870, 1880, 1890, 1900, 1910, 1920, 1930, 1940, \n",
    " 1950, 1960, 1970, 1980, 1990, 2000, 2010]\n",
    "\n",
    "firstyear = int(input(\"Enter the first year required for average calculation\"))\n",
    "secondyear = int(input(\"Enter the second year required for average calculation\"))\n",
    "\n",
    "if (firstyear in years and secondyear in years):\n",
    "    firstyearindex = years.index(firstyear)\n",
    "    secondyearindex = years.index(secondyear)\n",
    "    print(\"The index of the first year you entered is: \" + str(firstyearindex) + \" and the index of the second year you entered is: \" + str(secondyearindex))\n",
    "    censusfval = census[firstyearindex]\n",
    "    censussval = census[secondyearindex]\n",
    "    censusavg = ((censussval - censusfval)/censusfval*100)\n",
    "    #censusavg = int((census[secondyearindex] - census[firstyearindex])/census[firstyearindex]*100))\n",
    "    print(\"The average = \" + str(censusavg) + \"%\")\n",
    "   \n",
    "else: \n",
    "    print(\"value not found\")"
   ]
  },
  {
   "cell_type": "markdown",
   "metadata": {},
   "source": [
    "Here is a complex decision, a multi-way decision using elif to choose a breakfast item and return a response"
   ]
  },
  {
   "cell_type": "code",
   "execution_count": null,
   "metadata": {},
   "outputs": [],
   "source": [
    "print(\"1. Eggs\")\n",
    "print(\"2. Pancakes\")\n",
    "print(\"3. Waffles\")\n",
    "print(\"4. Oatmeal\")\n",
    "\n",
    "MainChoice = int(input(\"Choose a breakfast item: \"))\n",
    "\n",
    "if (MainChoice == 1):\n",
    "\n",
    "    print(\"1. Wheat Toast\")\n",
    "\n",
    "    print(\"2. Sour Dough\")\n",
    "\n",
    "    print(\"3. Rye Toast\")\n",
    "\n",
    "    print(\"4. Pancakes\")\n",
    "\n",
    "    Bread = int(input(\"Choose a type of bread: \"))\n",
    "\n",
    "    if (Bread == 1):\n",
    "            print(\"You chose eggs with wheat toast.\")\n",
    "    elif (Bread == 2):\n",
    "            print(\"You chose eggs with sour dough.\")\n",
    "    elif (Bread == 3):\n",
    "            print(\"You chose eggs with rye toast.\")\n",
    "    elif (Bread == 4):\n",
    "            print(\"You chose eggs with pancakes.\")\n",
    "    else:\n",
    "            print(\"We have eggs, but not that kind of bread.\")\n",
    "\n",
    "\n",
    "if (MainChoice == 2) or (MainChoice == 3):\n",
    "    if (MainChoice == 2): Meal = \"Pancakes\"\n",
    "\n",
    "    elif (MainChoice == 3): Meal = \"Waffles\"\n",
    "    print(\"1. Syrup\")\n",
    "    print(\"2. Strawberries\")\n",
    "    print(\"3. Powdered Sugar\")\n",
    "\n",
    "    Topping = int(input(\"Choose a topping: \"))\n",
    "\n",
    "    if (Topping == 1):\n",
    "        print (\"You chose \" + Meal + \" with syrup.\")\n",
    "    elif (Topping == 2):\n",
    "        print (\"You chose \" + Meal + \" with strawberries.\")\n",
    "    elif (Topping == 3):\n",
    "        print (\"You chose \" + Meal + \" with powdered sugar.\")\n",
    "    else:\n",
    "        print (\"We have \" + Meal + \", but not that topping.\")\n",
    "\n",
    "elif (MainChoice == 4):\n",
    "\n",
    "    print(\"You chose oatmeal.\")\n",
    "\n",
    "else:\n",
    "\n",
    "    print(\"You have entered an invalid breakfast item choice!\")"
   ]
  },
  {
   "cell_type": "markdown",
   "metadata": {},
   "source": [
    "## Recursive Functions in Python:<a id=\"3\"></a>\n",
    "\n",
    "Recursion is coding a problem involving create a function (recursive function) which calls itself one or more times to break a problem into smaller problems to solve. Two components are necessary for a recursive function: a recursive case which continues to break the problem down further and a base case which is the condition in which the function terminates to prevent an infinite recursion. The recursion works toward the base case so the condition outside of the base case recurses until it reaches the condition to be satisfied by the base case.\n",
    "\n",
    "Recursion is stored in memory using a (global frame + call frame) which essentially is in a stack (LIFO) Last in First Out data structure. Each time the function calls itself(instance) it stores the state of n and variables in a different stack frame. When the function reaches the base case <1 it returns the value 1 and control to the function just called and pops it from the stack. It continues this process , returning the new total until it returns to the original calling function. A call stack is composed of stack frames & a stack frame is a thing that you put on the stack. They are data structures that contain information about subroutines to call.\n",
    "      \n",
    "###  Factorial Recursive Function Example(two base cases):  "
   ]
  },
  {
   "cell_type": "markdown",
   "metadata": {},
   "source": [
    "![stackrecursivecode.png](img/stackrecursivecode.png)"
   ]
  },
  {
   "cell_type": "markdown",
   "metadata": {},
   "source": [
    "![stackrecursivegraphic.png](img/stackrecursivegraphic.png)"
   ]
  },
  {
   "cell_type": "code",
   "execution_count": null,
   "metadata": {},
   "outputs": [],
   "source": [
    "def get_recursive_factorial(n):\n",
    "    \n",
    "    for i in range(1, n+1 ):\n",
    "              \n",
    "        if n < 0:\n",
    "            return -1\n",
    "        elif n < 2: \n",
    "            return 1\n",
    "        else:\n",
    "            factorialsum = n * get_recursive_factorial(n-1)\n",
    "            print(\"Partial sum of each recursive call(\",n,\"* get_recursive_factorial(\",n-1,\"):\",factorialsum) \n",
    "            print(\"which also could be interpreted as \",n,\"! is\",n,\"* \",n-1,\"! with a result of \",factorialsum)\n",
    "            print(\"------------------------------------------------------------------------------\")\n",
    "            return factorialsum\n",
    "            \n",
    "print(get_recursive_factorial(5),\"is the final answer\")"
   ]
  },
  {
   "cell_type": "markdown",
   "metadata": {},
   "source": [
    "### Fibonacci Recursive Function Example(one base case): \n",
    "\n",
    "As stated in the previous recursion section, a recursive function which calls itself first, is returned last (LIFO principle) and utilizes a stack. This line: return fib(n - 1) + fib(n-2) means the function will branch off into two seperate recursive calls. In the case of fibonacci(5), it will branch off into fibonacci(4) + fibonacci(3) as indicated by the tree below in orange and green , the tree and the memory stack represents what occurs during this process. \n",
    "\n",
    "Call stack operation:\n",
    "\n",
    "The function gets created as indicated by the blue block.\n",
    "The value 5 gets passed to the function as indicated by the red block.\n",
    "The function will branch off into fibonacci(4) + fibonacci(3) as indicated by the tree below in orange and green\n",
    "The value 4 gets passed to the function as indicated by the orange block\n",
    "The function will branch off into fibonacci(3) + fibonacci(2) as indicated by the tree in green and purple\n",
    ".\n",
    ".\n",
    "Lather/rinse/repeat until n < 2 or 1 then the value 1 is returned to the bottom of the tree/popped from the top of the memory stack(LIFO)."
   ]
  },
  {
   "cell_type": "markdown",
   "metadata": {},
   "source": [
    "![fibonaccicode.png](img/fibonaccicode.png)"
   ]
  },
  {
   "cell_type": "markdown",
   "metadata": {},
   "source": [
    "![fibonaccivisual.png](img/fibonaccivisual.png)\n"
   ]
  },
  {
   "cell_type": "code",
   "execution_count": null,
   "metadata": {
    "scrolled": true
   },
   "outputs": [],
   "source": [
    "#fibonacci sequence: 0, 1, 1, 2, 3, 5, 8, 13, 21, 34, ...\n",
    "def fibonacci(n):\n",
    "# Base Case: n < 2\n",
    "   if n < 2:\n",
    "        return 1\n",
    "#Recursive case: (n-1)+(n-2)\n",
    "   else:\n",
    "        return (fibonacci(n-1) + fibonacci(n-2))\n",
    "        print(\"Partial sum of each recursive call: fibonacci(\",n-2,\") + fibonacci(\",n-1,\"):\",n)\n",
    "        print(\"which also could be interpreted as the previous two numbers\",n-2,\"+\",n-1,\"= \",n)\n",
    "        print(\"or start with n which is\",n,\"subtract 2 or n-2:\",n-2,\" add it to n-1 which is\",n-1,\" = \",n)\n",
    "        print(\"-----------------------------------------------------------------------------------------------------\") \n",
    "        \n",
    "\n",
    "print (fibonacci(5))"
   ]
  },
  {
   "cell_type": "markdown",
   "metadata": {},
   "source": []
  },
  {
   "cell_type": "markdown",
   "metadata": {},
   "source": [
    "###   String Permutation Recursive Function Example (one base case):\n",
    "\n",
    "In this illustration we will go over two concepts: recursion and permutation of a string. If you remember recursion breaks up a problem into smaller problems to solve. **Here is the problem we will solve: Return a set of all possible permutations of the letters contained in a string 'bmg' which are my initials :)**\n",
    "In order to solve this problem we must first define what a permutation is! A permutation is all of the possible variations in which a set can be ordered or arranged. It is usually represented as n!, so for a string of length n there are n! possible permutations. After the first fixed element, (n-1)! possible different permutations remain. It can be swapped with itself or (n-1)!. The first element can be fixed in n ways which we will illustrate...\n",
    "\n",
    "**Example:**\n",
    "bmg(my initials) would be 3! possible permutations & the first fixed element can be 3 different ways(length of string) for a total of 6 different permutations, this is illustrated in a tree structure"
   ]
  },
  {
   "cell_type": "markdown",
   "metadata": {},
   "source": [
    "![stringpermutation.png](img/stringpermutation.png)"
   ]
  },
  {
   "cell_type": "markdown",
   "metadata": {},
   "source": [
    "Here are a few tips when constructing a string permutation function: an if statement, a pointer and the length of the string should be used to indicate the point at which the function has reached no more permutations b) for each variable include a print statement in your code to identify each pointer value, string array value, permutation element and so on for troubleshooting, c) recursion is needed for the non-swapped portion of the string after swapping the characters with themselves."
   ]
  },
  {
   "cell_type": "code",
   "execution_count": null,
   "metadata": {},
   "outputs": [],
   "source": [
    "def permutation(string, start=0):\n",
    "    end=len(string)\n",
    "    # loop through each letter of the string\n",
    "    if start == end:\n",
    "    # we've gotten to the end, the last possible permutation will be printed of string passed with \" \" seperator  \n",
    "        print(\"This is final permutation \" + \"\".join(string))\n",
    "    else: \n",
    "    # iterates through string using for loop and iterates current between range of start(0) & end or length of string\n",
    "        for current in range(start, end):\n",
    "    # converts string into a list of characters and stores in list called mylist\n",
    "            mylist=list(string)   \n",
    "    # recurse on the portion of the string that has not been swapped yet\n",
    "            mylist[start], mylist[current] = mylist[current], mylist[start]\n",
    "            print(\"This is the result of swap\",start,mylist)\n",
    "            permutation(''.join(mylist), start + 1)\n",
    "permutation('bmg')"
   ]
  },
  {
   "cell_type": "markdown",
   "metadata": {},
   "source": [
    "## Creating Classes - Abstract Base Classes, Abstract Data Types, Inheritance & @abstractmethod"
   ]
  },
  {
   "cell_type": "markdown",
   "metadata": {},
   "source": [
    "### Abstract class & Instantiation of an Instance"
   ]
  },
  {
   "cell_type": "code",
   "execution_count": null,
   "metadata": {},
   "outputs": [],
   "source": [
    "class Vehicle:\n",
    "    #_init_ assigns values for tank, seating capacity and maximum velocity\n",
    "    #self refers to the class itself andis used to access variables within that class like \n",
    "    # number_of_wheels\n",
    "    def __init__(self, number_of_wheels, type_of_tank, seating_capacity, maximum_velocity):\n",
    "        self.number_of_wheels = number_of_wheels\n",
    "        self.type_of_tank = type_of_tank\n",
    "        self.seating_capacity = seating_capacity\n",
    "        self.maximum_velocity = maximum_velocity\n",
    "\n",
    "#remove comment below to try Tesla\n",
    "#tesla_model_s = Vehicle(4, 'electric', 5, 250)\n",
    "ford_f150 = Vehicle(2, 'diesel', 6, 300)\n",
    "\n",
    "#print (\"This tesla model\" + number_of_wheels)\n",
    "\n",
    "#tuple using .format to convert an integer to string for printing, remove comment to try Tesla\n",
    "#print (\"The Tesla Model S has {} wheels, it has a {} engine. \".format(tesla_model_s.number_of_wheels, tesla_model_s.type_of_tank))  # 4\n",
    "#print (\"It seats {} with a maximum velocity of {}. \".format(tesla_model_s.seating_capacity, tesla_model_s.maximum_velocity))\n",
    "print (\"It seats {} with a maximum velocity of {}. \".format(ford_f150.seating_capacity, ford_f150.maximum_velocity))"
   ]
  },
  {
   "cell_type": "markdown",
   "metadata": {},
   "source": [
    "Abstract Base Class(ABC)\n",
    "\n",
    "skeleton/blueprint for subclasses to inherit from & provides means for forced implementation of method definition in subclasses. Contains no implementation details as stated above. The concept of an abstract class exists within inheritance.\n",
    " \n",
    "\n",
    "Abstract Data Type(ADT)\n",
    "\n",
    "An abstract data type represents a class through data type implementation abstraction(algorithm) and allows you to decide on implementation within it(linked list, array etc)\n",
    "Contain data fields or complex data structures (stack,queue) and operations like push() and pop() unlike an abstract base class\n",
    "\n",
    "@abstractmethod decorator\n",
    "\n",
    "This is used to enforce “implementation” of a specific method in a subclass that extends from it but it should not contain any implementation details within it. E.g. Consider that you have a parent/base class Vehicle with the method checkEngine. Also consider that the classes SUV, Sedan,  Motorcycle all inherit from the base class Vehicle. We would use the abstractmethod annotation in the Vehicle class in order to force any class that inherits from Vehicle to provide its own implementation of the checkEngine method\n",
    "\n",
    "### Pseudocode-ish for construction of an abstract base class which contains an @abstractmethod and uses inheritance\n",
    "![pseudocodeabstractclass](img/pseudocodeabstractclass.png)\n",
    "\n",
    "## Stacks - ADT & LinkedList\n",
    "\n",
    "### Sample code  for creation of a Stack that is an ADT represented as a class:"
   ]
  },
  {
   "cell_type": "code",
   "execution_count": null,
   "metadata": {},
   "outputs": [],
   "source": [
    "class Stack:\n",
    "\n",
    "   def __init__(self):\n",
    "\n",
    "         self.items = []\n",
    "\n",
    "   def IsEmpty(self):\n",
    "\n",
    "       return self.items == []\n",
    "\n",
    "   def push(self,item):\n",
    "\n",
    "       self.items.append(item)\n",
    "\n",
    "   def pop(self):\n",
    "\n",
    "       return self.items.pop()\n",
    "\n",
    "   def top(self):\n",
    "\n",
    "       return self.items[len(self.items)-1]\n",
    "\n",
    "   def size(self):\n",
    "\n",
    "       return len(self.items)"
   ]
  },
  {
   "cell_type": "markdown",
   "metadata": {},
   "source": [
    "### Implementation of a Hash Table - Python Dictionary\n",
    "\n",
    "Dictionaries are accessed via keys and not via their position. A dictionary is an associative array (also known as hashes). Any key of the dictionary is associated (or mapped) to a value. The values of a dictionary can be any Python data type. So dictionaries are unordered key-value-pairs. Python uses complex algorithms, designed for very fast access, to determine where the key:value pairs are stored in a dictionary.The reason is dictionaries are very fast is that they are implemented using a technique called hashing, which allows us to access a value very quickly."
   ]
  },
  {
   "cell_type": "code",
   "execution_count": null,
   "metadata": {},
   "outputs": [],
   "source": [
    "en_fr = {\"welcome\" : \"bienvenu\", \"goodbye\" : \"au revoir\", \"merry christmas\" : \"joyeux noel\", \"happy new year\":\"bonne annee\"}\n",
    "print(en_fr)\n",
    "print(\"The French word for welcome is: \"  + en_fr[\"welcome\"]) ##key\n"
   ]
  },
  {
   "cell_type": "markdown",
   "metadata": {},
   "source": [
    "### Implementation of a Stack using a LinkedList\n",
    "\n",
    "A stack is a linear data structure that holds a collection of items. We can define operations performed in a stack from the point of view of a user:\n",
    "\n",
    ".push() - add item to top\n",
    ".pop() - remove and return item from top\n",
    "\n",
    "Real world application of a stack:\n",
    "The history section of web browsers, where it creates a linked list of web-pages visited, so that when you check history (traversal of a list) or press back button, the previous node's data is fetched\n",
    "\n",
    "\n",
    "### Sample Code implementing a stack using a LinkedList"
   ]
  },
  {
   "cell_type": "code",
   "execution_count": null,
   "metadata": {},
   "outputs": [],
   "source": [
    "class Node:\n",
    "    def __init__(self, data):\n",
    "       self.data = data\n",
    "       self.next = None\n",
    " \n",
    "class Stack:\n",
    "    def __init__(self):\n",
    "        self.head = None\n",
    " \n",
    "    def push(self, data):\n",
    "        if self.head is None:\n",
    "            self.head = Node(data)\n",
    "        else:\n",
    "            new_node = Node(data)\n",
    "            new_node.next = self.head\n",
    "            self.head = new_node\n",
    " \n",
    "    def pop(self):\n",
    "        if self.head is None:\n",
    "            return None\n",
    "        else:\n",
    "            popped = self.head.data\n",
    "            self.head = self.head.next\n",
    "            return popped\n",
    " \n",
    "a_stack = Stack()\n",
    "while True:\n",
    "    print('push <value>')\n",
    "    print('pop')\n",
    "    print('quit')\n",
    "    do = input('What would you like to do? ').split()\n",
    " \n",
    "    operation = do[0].strip().lower()\n",
    "    if operation == 'push':\n",
    "        a_stack.push(int(do[1]))\n",
    "    elif operation == 'pop':\n",
    "        popped = a_stack.pop()\n",
    "        if popped is None:\n",
    "            print('Stack is empty.')\n",
    "        else:\n",
    "            print('Popped value: ', int(popped))\n",
    "    elif operation == 'quit':\n",
    "        break"
   ]
  },
  {
   "cell_type": "markdown",
   "metadata": {},
   "source": [
    "![stackvisual.png](img/stackvisual.png)"
   ]
  },
  {
   "cell_type": "markdown",
   "metadata": {},
   "source": [
    "## Big O Algorithmic Time Complexity <a id=\"5\"></a>\n",
    "\n",
    "First I will explain what the definition of big O is and its purpose. Big O measures time or memory needed for algorithm execution. It is a math concept describing the running time or space requirements when problem/input size  or items reach towards a particular value or infinity(growth rate of function) **(n)** Using Big O can help you identify the worst case scenario of how efficient your algorithm is, in time execution.\n",
    "\n",
    "Efficiency can be..\n",
    "-CPU (time) usage\n",
    "-memory usage\n",
    "-disk usage\n",
    "-network usage\n",
    "\n",
    "Be careful to differentiate between:\n",
    "\n",
    "Aside from performance limitations with the above(memory/disk etc.) when a program is run, complexity/algorithm scale or problem being solved gets larger) in the code impacts performance.\n",
    "\n",
    "The time required by a method is proportional to the number of \"basic operations\" that it performs. Here are some examples of basic operations:\n",
    "\n",
    "- one arithmetic operation (e.g., +, *).\n",
    "- one assignment\n",
    "- one test (e.g., x == 0)\n",
    "- one read\n",
    "- one write (of a primitive type)\n",
    "\n",
    "Some Basic Rules:\n",
    "\n",
    "1. Nested loops are multiplied together. **O(n) * O(n) = O(n) ^ 2**\n",
    "2. Sequential loops are added. **O(n) + O(n) = O(2n)** \n",
    "3. Only the largest term is kept, all others are dropped.  \n",
    "4. Constants are dropped. **O(2n) = O(n)**\n",
    "5. Conditional checks are constant (i.e. 1). **O(1)**\n",
    "\n",
    "Let's take a look at a few code samples to determine Big O, do you think you know the time complexity of the below code:\n",
    "\n",
    "**while True: \n",
    "    p = int(input('Enter a number '))\n",
    "    for d in range(2, p):\n",
    "        if p % d == 0:\n",
    "            print(p, \"is not a prime number!\", d,\"*\", p//d,\"=\",p)\n",
    "            break\n",
    "    else:\n",
    "        print(p, \"is a prime number!\")**\n",
    "        \n",
    "It is okay if you do not.. here is some helpful guidance\n",
    "\n",
    "For loops(not-nested) in general has a time complexity of **O(n)** , why? Because we are looping through each value. The number of iterations depends on the size of the list which at a worst case scenario can be towards an infinite number of items, represented by n. \n",
    "\n",
    "So knowing what we know about for loops we can assume that a for loop can be rewritten into a while and vice versa so the complexity of a while loop is the same **O(n)**, which if you think about it, the worst case scenario can be an infinite number of iterations until a stop condition is reached.\n",
    "\n",
    "Since the two of these are nested, refer to rule#1 , the function would be O(n) * O(n) or O(n^2)\n",
    "\n",
    "Assignment operations such as p = ... will have a function of **O(1)** because it is a constant, there is no way to change it to make it bigger as values increase. If we turned the statement p = int(input('Enter a number ') into a function\n",
    "\n",
    "**def enternumber(firstnum,secondnum,thirdnum):\n",
    "    p = thirdnum**\n",
    "    \n",
    "   ... it is still assigning 1 value no matter how many values we pass as arguments.\n",
    "   \n",
    "So far we have O(n^2) + O(1) \n",
    "   \n",
    "Next we take a look at our if else statement. This if statement is within the nested loops so if you think about the traditional if statement it is a conditional check so it is **O(1)**, how does that change within this set of loops? For each iteration of the for loop, it will do a conditional check to see if p % d == 0 so far we have..\n",
    "\n",
    "O(n^2) + O(1) + O(1) \n",
    "\n",
    ".. print statement is constant, it is one operation so O(1)... we are left with\n",
    "\n",
    ".. **O(n^2) + O(1) + O(1) + O(1).. to simplify O(n^2) + O(3)** from our rules we keep the largest so the whole function is **O(n^2)** or quadratic\n",
    "\n",
    "Visual Representation of Complexity Formulas\n",
    "\n",
    "1. Run the code below to import our needed libs\n",
    "2. Run the graphs to identify what the graphs look like for complexity as we scale or approach infinity & see if you can find the graph for the complexity function matching our code above\n"
   ]
  },
  {
   "cell_type": "code",
   "execution_count": null,
   "metadata": {},
   "outputs": [],
   "source": [
    "%matplotlib inline\n",
    "import matplotlib\n",
    "import numpy as np\n",
    "import matplotlib.pyplot as plt"
   ]
  },
  {
   "cell_type": "code",
   "execution_count": null,
   "metadata": {},
   "outputs": [],
   "source": [
    "# x axis values \n",
    "x = [1,10,100,1000] \n",
    "# corresponding y axis values \n",
    "y = [1,1,1,1] \n",
    "  \n",
    "# setting the limits in the graph\n",
    "plt.xlim(0, 1000)\n",
    "plt.ylim(-5,100)\n",
    "# plotting the points  \n",
    "plt.plot(x, y) \n",
    "  \n",
    "# naming the x axis \n",
    "plt.xlabel('X AXIS - Elements') \n",
    "# naming the y axis \n",
    "plt.ylabel('Y AXIS - Operations') \n",
    "  \n",
    "# giving a title to my graph \n",
    "plt.title('O(1) or Constant Complexity Graph')"
   ]
  },
  {
   "cell_type": "code",
   "execution_count": 66,
   "metadata": {},
   "outputs": [
    {
     "data": {
      "text/plain": [
       "Text(0.5, 1.0, 'O(n^2) or Quadratic Complexity Graph')"
      ]
     },
     "execution_count": 66,
     "metadata": {},
     "output_type": "execute_result"
    },
    {
     "data": {
      "image/png": "[encoded data removed]",
      "text/plain": [
       "<Figure size 432x288 with 1 Axes>"
      ]
     },
     "metadata": {},
     "output_type": "display_data"
    }
   ],
   "source": [
    "# x axis values \n",
    "x = [1,5,10,15]\n",
    "# corresponding y axis values \n",
    "y = [1,25,100,225]\n",
    "\n",
    " \n",
    "# setting the limits in the graph\n",
    "plt.xlim(1, 30)\n",
    "plt.ylim(1,230)\n",
    "  \n",
    "# plotting the points  \n",
    "\n",
    "plt.plot(x, y)\n",
    "  \n",
    "# naming the x axis \n",
    "plt.xlabel('X AXIS - Elements') \n",
    "# naming the y axis \n",
    "plt.ylabel('Y AXIS - Operations') \n",
    "  \n",
    "# giving a title to my graph \n",
    "plt.title('O(n^2) or Quadratic Complexity Graph')"
   ]
  },
  {
   "cell_type": "code",
   "execution_count": 68,
   "metadata": {},
   "outputs": [
    {
     "data": {
      "text/plain": [
       "Text(0.5, 1.0, 'O(n) or Linear Complexity Graph')"
      ]
     },
     "execution_count": 68,
     "metadata": {},
     "output_type": "execute_result"
    },
    {
     "data": {
      "image/png": "[encoded data removed]",
      "text/plain": [
       "<Figure size 432x288 with 1 Axes>"
      ]
     },
     "metadata": {},
     "output_type": "display_data"
    }
   ],
   "source": [
    "# x axis values \n",
    "x = [1,5,10,15,20,25,30]\n",
    "# corresponding y axis values \n",
    "y = [1,5,10,15,20,25,30]\n",
    "\n",
    " \n",
    "# setting the limits in the graph\n",
    "plt.xlim(0,30)\n",
    "plt.ylim(0,30)\n",
    "  \n",
    "# plotting the points  \n",
    "\n",
    "plt.plot(x, y)\n",
    "  \n",
    "# naming the x axis \n",
    "plt.xlabel('X AXIS - Elements') \n",
    "# naming the y axis \n",
    "plt.ylabel('Y AXIS - Operations') \n",
    "  \n",
    "# giving a title to my graph \n",
    "plt.title('O(n) or Linear Complexity Graph')"
   ]
  },
  {
   "cell_type": "code",
   "execution_count": 64,
   "metadata": {},
   "outputs": [
    {
     "data": {
      "text/plain": [
       "Text(0.5, 1.0, 'O(log n) or Logarithmic Complexity Graph')"
      ]
     },
     "execution_count": 64,
     "metadata": {},
     "output_type": "execute_result"
    },
    {
     "data": {
      "image/png": "[encoded data removed]",
      "text/plain": [
       "<Figure size 432x288 with 1 Axes>"
      ]
     },
     "metadata": {},
     "output_type": "display_data"
    }
   ],
   "source": [
    "# x axis values \n",
    "x = [5,10,50,100,500]\n",
    "# corresponding y axis values \n",
    "y = [.69,1,1.69,2,2.69]\n",
    "\n",
    " \n",
    "# setting the limits in the graph\n",
    "plt.xlim(5,500)\n",
    "plt.ylim(1,50)\n",
    "  \n",
    "# plotting the points  \n",
    "\n",
    "plt.plot(x, y)\n",
    "  \n",
    "# naming the x axis \n",
    "plt.xlabel('X AXIS - Elements') \n",
    "# naming the y axis \n",
    "plt.ylabel('Y AXIS - Operations') \n",
    "  \n",
    "# giving a title to my graph \n",
    "plt.title('O(log n) or Logarithmic Complexity Graph')"
   ]
  },
  {
   "cell_type": "markdown",
   "metadata": {},
   "source": [
    "## The End\n",
    "A few of the concepts we have covered in this notebook were: \n",
    "-  initialization of variables\n",
    "-  creation of lists\n",
    "-  defining user defined functions and passing arguments to it\n",
    "-  using built in functions e.g. str, list,_init_,self, int(input()),print \n",
    "-  decision structures(if,elif,else)\n",
    "-  repetitive structures(for,while)\n",
    "-  creation of abstract classes & objects(strings)\n",
    "-  Stacks & LinkedList Implementation\n",
    "-  return statements\n",
    "-  recursion\n",
    "-  Big O Notation\n",
    "\n",
    "I hope you enjoyed the teachings in this notebook and it helped you gain a little more Python knowledge than you had before! Happy coding!"
   ]
  }
 ],
 "metadata": {
  "kernelspec": {
   "display_name": "Python 3",
   "language": "python",
   "name": "python3"
  },
  "language_info": {
   "codemirror_mode": {
    "name": "ipython",
    "version": 3
   },
   "file_extension": ".py",
   "mimetype": "text/x-python",
   "name": "python",
   "nbconvert_exporter": "python",
   "pygments_lexer": "ipython3",
   "version": "3.7.0"
  }
 },
 "nbformat": 4,
 "nbformat_minor": 2
}
