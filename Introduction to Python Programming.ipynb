{
 "cells": [
  {
   "cell_type": "markdown",
   "metadata": {},
   "source": [
    "![alt text](https://www.python.org/static/community_logos/python-logo-master-v3-TM.png \"Title\")\n",
    "\n",
    "<h1 align=center><font size = 5>Interactive Introduction to Python Programming Notebook</font></h1>\n",
    "\n",
    "## Introduction To Python\n",
    "\n",
    "Some of the concepts we will cover in this notebook are basic computer science fundamentals & data structures implemented using Python. I will also provide some basic hints/tips to help you on your journey. This notebook is desi gned for beginners new to computer science & programming in general. \n",
    "\n",
    "\n",
    "## Table of Contents\n",
    "\n",
    "1. [Pre-requisites(tools) & Tips](#0)<br>\n",
    "2. [Repetitive Data Structures(For & While Loops)](#1)<br>\n",
    "3. [Decision structure(if else)](#2) <br>\n",
    "3. [Recursion(Fibonacci, Factorial, String Permutation)](#2) <br>\n",
    "4. [Creating Classes, Objects](#3) <br>\n",
    "5. [...](#4) <br>\n",
    "6. [...](#5) <br>\n",
    "\n",
    "\n",
    "## Pre-requisites(tools) & Tips<a id=\"0\"></a>\n",
    "\n",
    "Those of you who are just starting out with the Python language there are few prereqs/tools/tips you may want to consider or be aware of. I recommend a good text editor so that you can create modify and execute your code, I use Sublime(https://www.sublimetext.com/) and I also like Atom(https://atom.io/). I also found a nifty tool that allows you to visualize your code and step through it for troubleshooting(http://pythontutor.com). If you have any trouble with executing code (click cell, Shift+Enter) in the cells, try restarting the kernel that seems to work. If you wish to clear the output this may help as well.\n",
    "\n",
    "A few tips I recommend is to be aware of \"indentation\". This is how Python structures, groups and executes its code, it is similar to the old {} in other languages. If you do not indent properly you will get either a) indentation errors b) invalid syntax errors or c) your code will not execute properly as you intended. Also when you are first beginning to write Python code or code in general, if it is a repetitive structure you should attempt to write one iteration of how the code should work semantically and behaviorally, once it behaves as intended place within a repetitive structure. Use print statements to validate your variables & explain code behavior, which I have done below. Also use comments to guide those who are not familiar with your code\n"
   ]
  },
  {
   "cell_type": "markdown",
   "metadata": {},
   "source": [
    "## Nested While Loop Illustration for Prime Numbers & Code sample<a id=\"1\"></a>\n",
    "\n",
    "In this illustration we will go over two concepts: nested while loops and prime numbers. \n",
    "Here are a few tips: \n",
    "a) A prime number is a whole number > 1 that can be divided evenly (modulus/remainder = 0) by itself and 1 \n",
    "b) 2 is the smallest prime number and the only even prime number, it is divisible by itself and 1\n",
    "\n",
    "Here is the process:\n",
    "#### Step 1 & 2: Initialize variable i,p & Outer While loop iterates\n",
    "\n",
    "The first step is i gets initialized to 2 (i=2) because prime numbers start at 2. The variable p is also evaluated as the total number to check in order to stop the outer loop from iterating indefinitely (p=12).\n",
    "\n",
    "The second step is the outer while loop condition is evaluated (while i < p), as p=12 it will run for values p=2 to p=11, 10 times. To prevent an indefinite iteration you must do two things:\n",
    "a) the while condition ( i < p) have to initialize to false initially by setting a p value to end it\n",
    "b) Incrementally increase i value to reach condition(not < p) e.g. 12 < 12 is false, this stops the outer loop\n",
    "            \n",
    "#### Step 3 & 4: Initialize variable j, Evaluate nested while loop and if stmt condition &  increment value i and outer while loop iterates again since condition is true\n",
    "\n",
    "The third step is 2 is also the lowest prime number in order to check for other divisors other than (1,itself) so it is initialized to j, j=2.I run my print statement to indicate when I am in the outer loop and i, j variables e.g. \"---Outer while\". The nested inner while loop condition is evaluated j <= i/j which is false, 2 <= i/j or 2 <= 2/2 or 2 <= 1.0 so it skips the loop code and jumps to next line (if statement)It evaluates the if statement (j > i/j) which i also run a print statement to indicate the values, this statement evaluates to true 2 > 2/2 or 2 > 1 so it indicates 2 a prime number has been found.\n",
    "\n",
    "The fourth step is toincrementally increase the i value in order for the while loop to evaluate to false and stop, so i=3 now while ( 3 < 12) true\n",
    "\n",
    "#### Step 5 & 6: Initializes j back to 2, the nested while loop condition evaluates to false so jumps to if statement for evaluation, which is true & Outer loop interates, Nested while loop condition is evaluated to true so print statement executes \n",
    "\n",
    "The fifth step is j=2 & j > i/j is 2 > 3/2 or 2 > 1.5 so i gets incremented and prints the statements indicating 3 a prime number is found, i=4 now. \n",
    "\n",
    "The sixth step is 4<12 for outer loop and j <=  i/j or 2 <= 4/2 or 2 <= 2 is true for nested while loop. Prints statement \"*** Inner while\" to know where you are within the code and since if not (i%j) evaluates to true 4/2 has a modulus of 0 or remainder of 0 indicating this is not a prime number and breaks out of the nested loop \n",
    "\n",
    "#### Step 7 & &: Incrementing j variable, evaluation of the nested while loop condition again, which is false then jumps to next line of code: if statement to evaluate if prime number is found then increments i & Lather, Rinse,Repeat\n",
    "\n",
    "The seventh step after it breaks out of the loop it jumps to the next statement incrementing j then to the if statement j is now 3 , j=3 the nested while loop evaluation j <= i/j, 3 <= 2/3 or 3 <= 1.6666 which evaluates to false, if statement evaluation j > i/j or 3 > 2/3 or 3 > 1.666 which evaluates to true so it will print \"5 is a prime number\"increments i to 5, i=5"
   ]
  },
  {
   "cell_type": "code",
   "execution_count": null,
   "metadata": {},
   "outputs": [],
   "source": [
    "i = 2\n",
    "p = 12\n",
    "\n",
    "while (i < p):\n",
    "\n",
    "\tj = 2\n",
    "\n",
    "\tprint(\"---Outer while loop iterates, sets j=2 since i is \"+str(i)+\" and j is \"+str(j)+\" and \"+str(i)+\" is less than \"+str(p))\n",
    "\n",
    "\twhile (j <= (i/j)): \n",
    "\n",
    "\t\tprint(\"**Inner while iterates since i is \"+str(i)+\" and j is \"+str(j)+\" and is j <= \"+str(i/j)+\" ?\")\n",
    "\n",
    "\t\tif not(i%j):  break\n",
    "\n",
    "\t\tj = j + 1\n",
    "\n",
    "\tif (j > i/j): print(\"j value is \"+str(j)+\" which is now > \"+str(i/j)+\", (to prevent infinite inner loop iteration it increments j in inner loop then jumps to next line: Outer if: Since \"+str(j)+\" is > \"+str(i)+\" / \"+str(j)+\" then \"+str(i)+\" is prime\")\n",
    "\n",
    "\ti = i + 1 \n",
    "    \n",
    "\tprint(\"i increments to \"+str(i))\n",
    "\n",
    "print (\"Goodbye!\")"
   ]
  },
  {
   "cell_type": "markdown",
   "metadata": {},
   "source": [
    "## Decision Structure Prime Numbers & Code sample<a id=\"2\"></a>\n",
    "\n",
    "Decision making is setting specific actions to take based on conditions during execution of the code \n",
    "\n",
    "There are three types of decisions a) Simple decision which is one if statement with no else branch b) Two-way decision which is one if statement with an else branch and c) Multi-way decision which can be Nested if statements & “elif” can be used instead of “else:” followed by “if”\n",
    "\n",
    "Prime Number For Else Keyboard Input Example: "
   ]
  },
  {
   "cell_type": "code",
   "execution_count": null,
   "metadata": {},
   "outputs": [],
   "source": [
    "while True:\n",
    "    p = int(input('Enter a number '))\n",
    "    for d in range(2, p):\n",
    "        if p % d == 0:\n",
    "            print(p, \"is not a prime number!\", d,\"*\", p//d,\"=\",p)\n",
    "            break\n",
    "    else:\n",
    "        print(p, \"is a prime number!\")"
   ]
  },
  {
   "cell_type": "markdown",
   "metadata": {},
   "source": [
    "## Recursive Functions in Python:<a id=\"3\"></a>\n",
    "\n",
    "Recursion is coding a problem involving create a function (recursive function) which calls itself one or more times to break a problem into smaller problems to solve. Two components are necessary for a recursive function: a recursive case which continues to break the problem down further and a base case which is the condition in which the function terminates to prevent an infinite recursion. The recursion works toward the base case so the condition outside of the base case recurses until it reaches the condition to be satisfied by the base case.\n",
    "\n",
    "Recursion is stored in memory using a (global frame + call frame) which essentially is in a stack (LIFO) Last in First Out data structure. Each time the function calls itself(instance) it stores the state of n and variables in a different stack frame. When the function reaches the base case <1 it returns the value 1 and control to the function just called and pops it from the stack. It continues this process , returning the new total until it returns to the original calling function. A call stack is composed of stack frames & a stack frame is a thing that you put on the stack. They are data structures that contain information about subroutines to call.\n",
    "      \n",
    "###  - Factorial Recursive Function Example(two base cases):\n",
    "    \n",
    "![title](img/stackrecursivecode.png) \n",
    "![title](img/stackrecursivegraphic.png) "
   ]
  },
  {
   "cell_type": "code",
   "execution_count": null,
   "metadata": {},
   "outputs": [],
   "source": [
    "def get_recursive_factorial(n):\n",
    "    \n",
    "    for i in range(1, n+1 ):\n",
    "              \n",
    "        if n < 0:\n",
    "            return -1\n",
    "        elif n < 2: \n",
    "            return 1\n",
    "        else:\n",
    "            factorialsum = n * get_recursive_factorial(n-1)\n",
    "            print(\"Partial sum of each recursive call(\",n,\"* get_recursive_factorial(\",n-1,\"):\",factorialsum) \n",
    "            print(\"which also could be interpreted as \",n,\"! is\",n,\"* \",n-1,\"! with a result of \",factorialsum)\n",
    "            print(\"------------------------------------------------------------------------------\")\n",
    "            return factorialsum\n",
    "            \n",
    "print(get_recursive_factorial(5),\"is the final answer\")"
   ]
  },
  {
   "cell_type": "markdown",
   "metadata": {},
   "source": [
    "## Fibonacci Recursive Function Example(one base case): \n",
    "\n",
    "As stated in the previous recursion section, a recursive function which calls itself first, is returned last (LIFO principle). This line: return fib(n - 1) + fib(n-2) means the function will branch off into two seperate recursive calls. In the case of fibonacci(5), it will branch off into fibonacci(4) + fibonacci(3) as indicated by the tree below in orange and green , the tree and the memory stack represents what occurs during this process. \n",
    "\n",
    "Call stack operation:\n",
    "\n",
    "The function gets created as indicated by the blue block.\n",
    "The value 5 gets passed to the function as indicated by the red block.\n",
    "The function will branch off into fibonacci(4) + fibonacci(3) as indicated by the tree below in orange and green\n",
    "The value 4 gets passed to the function as indicated by the orange block\n",
    "The function will branch off into fibonacci(3) + fibonacci(2) as indicated by the tree in green and purple\n",
    ".\n",
    ".\n",
    "Lather/rinse/repeat until n < 2 or 1 then the value 1 is returned to the bottom of the tree/popped from the top of the memory stack(LIFO).\n",
    "\n",
    "![title](img/fibonaccicode.png) \n",
    "![title](img/fibonaccivisual.png) "
   ]
  },
  {
   "cell_type": "code",
   "execution_count": null,
   "metadata": {
    "scrolled": true
   },
   "outputs": [],
   "source": [
    "#fibonacci sequence: 0, 1, 1, 2, 3, 5, 8, 13, 21, 34, ...\n",
    "def fibonacci(n):\n",
    "# Base Case: n < 2\n",
    "   if n < 2:\n",
    "        return 1\n",
    "#Recursive case: (n-1)+(n-2)\n",
    "   else:\n",
    "        return (fibonacci(n-1) + fibonacci(n-2))\n",
    "        print(\"Partial sum of each recursive call: fibonacci(\",n-2,\") + fibonacci(\",n-1,\"):\",n)\n",
    "        print(\"which also could be interpreted as the previous two numbers\",n-2,\"+\",n-1,\"= \",n)\n",
    "        print(\"or start with n which is\",n,\"subtract 2 or n-2:\",n-2,\" add it to n-1 which is\",n-1,\" = \",n)\n",
    "        print(\"-----------------------------------------------------------------------------------------------------\") \n",
    "        \n",
    "\n",
    "print (fibonacci(5))"
   ]
  },
  {
   "cell_type": "markdown",
   "metadata": {},
   "source": []
  },
  {
   "cell_type": "markdown",
   "metadata": {},
   "source": [
    "##   String Permutation Recursive Function Example (one base case):\n",
    "\n",
    "In this illustration we will go over two concepts: recursion and permutation of a string. If you remember recursion breaks up a problem into smaller problems to solve. Here is the problem we will solve: Return a set of all possible permutations of the letters contained in a string 'bmg' which are my initials :)\n",
    "In order to solve this problem we must first define what a permutation is! A permutation is all of the possible variations in which a set can be ordered or arranged. It is usually represented as n!, so for a string of length n there are n! possible permutations. After the first fixed element, (n-1)! possible different permutations remain. It can be swapped with itself or (n-1)!. The first element can be fixed in n ways which we will illustrate...\n",
    "\n",
    "Example: \n",
    "bmg(my initials) would be 3! possible permutations & the first fixed element can be 3 different ways(length of string) for a total of 6 different permutations\n",
    "\n",
    "![title](img/stringpermutation.png) \n",
    "\n",
    "Here are a few tips when constructing a string permutation function: an if statement, a pointer and the length of the string should be used to indicate the point at which the function has reached no more permutations b) for each variable include a print statement in your code to identify each pointer value, string array value, permutation element and so on for troubleshooting, c) recursion is needed for the non-swapped portion of the string after swapping the characters with themselves."
   ]
  },
  {
   "cell_type": "code",
   "execution_count": null,
   "metadata": {},
   "outputs": [],
   "source": [
    "def permutation(string, start=0):\n",
    "    end=len(string)\n",
    "    # loop through each letter of the string\n",
    "    if start == end:\n",
    "    # we've gotten to the end, the last possible permutation will be printed of string passed with \" \" seperator  \n",
    "        print(\"This is final permutation \" + \"\".join(string))\n",
    "    else: \n",
    "    # iterates through string using for loop and iterates current between range of start(0) & end or length of string\n",
    "        for current in range(start, end):\n",
    "    # converts string into a list of characters and stores in list called mylist\n",
    "            mylist=list(string)   \n",
    "    # recurse on the portion of the string that has not been swapped yet\n",
    "            mylist[start], mylist[current] = mylist[current], mylist[start]\n",
    "            print(\"This is the result of swap\",start,mylist)\n",
    "            permutation(''.join(mylist), start + 1)\n",
    "permutation('bmg')"
   ]
  }
 ],
 "metadata": {
  "kernelspec": {
   "display_name": "Python 3",
   "language": "python",
   "name": "python3"
  },
  "language_info": {
   "codemirror_mode": {
    "name": "ipython",
    "version": 3
   },
   "file_extension": ".py",
   "mimetype": "text/x-python",
   "name": "python",
   "nbconvert_exporter": "python",
   "pygments_lexer": "ipython3",
   "version": "3.7.0"
  }
 },
 "nbformat": 4,
 "nbformat_minor": 2
}
